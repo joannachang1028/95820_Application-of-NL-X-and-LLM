{
  "nbformat": 4,
  "nbformat_minor": 0,
  "metadata": {
    "colab": {
      "provenance": [],
      "include_colab_link": true
    },
    "kernelspec": {
      "name": "python3",
      "display_name": "Python 3"
    },
    "language_info": {
      "name": "python"
    }
  },
  "cells": [
    {
      "cell_type": "markdown",
      "metadata": {
        "id": "view-in-github",
        "colab_type": "text"
      },
      "source": [
        "<a href=\"https://colab.research.google.com/github/joannachang1028/95820_Application-of-NL-X-and-LLM/blob/main/RNNSentimentClassification.ipynb\" target=\"_parent\"><img src=\"https://colab.research.google.com/assets/colab-badge.svg\" alt=\"Open In Colab\"/></a>"
      ]
    },
    {
      "cell_type": "code",
      "execution_count": null,
      "metadata": {
        "id": "3mAsimztMaW3"
      },
      "outputs": [],
      "source": [
        "# You can download the IMDB Dataset from the below Kaggle Link and upload to Collab for your code to work\n",
        "# https://www.kaggle.com/datasets/lakshmi25npathi/imdb-dataset-of-50k-movie-reviews\n"
      ]
    },
    {
      "cell_type": "code",
      "source": [
        "import torch\n",
        "import torch.nn as nn\n",
        "import torch.optim as optim\n",
        "import pandas as pd\n",
        "import numpy as np\n",
        "import matplotlib.pyplot as plt\n",
        "from sklearn.model_selection import train_test_split\n",
        "from sklearn.preprocessing import LabelEncoder\n",
        "from torch.utils.data import Dataset, DataLoader"
      ],
      "metadata": {
        "id": "xz129gVoMe9s"
      },
      "execution_count": null,
      "outputs": []
    },
    {
      "cell_type": "code",
      "source": [
        "df = pd.read_csv(\"IMDB-Dataset.csv\", names=[\"text\", \"label\"]).drop(0).reset_index()\n",
        "df = df[[\"text\", \"label\"]]\n",
        "display(df.head())\n",
        "\n",
        "df['text'] = df['text'].str.lower().str.split()\n",
        "\n",
        "le = LabelEncoder()\n",
        "df['label'] = le.fit_transform(df['label'])\n",
        "\n",
        "train_data, test_data = train_test_split(df, test_size=0.2, random_state=42)\n",
        "\n",
        "vocab = {word for phrase in df['text'] for word in phrase}\n",
        "word_to_idx = {word: idx for idx, word in enumerate(vocab, start=1)}\n",
        "\n",
        "max_length = df['text'].str.len().max()\n",
        "\n",
        "def encode_and_pad(text):\n",
        "    encoded = [word_to_idx[word] for word in text]\n",
        "    return encoded + [0] * (max_length - len(encoded))\n",
        "\n",
        "train_data['text'] = train_data['text'].apply(encode_and_pad)\n",
        "test_data['text'] = test_data['text'].apply(encode_and_pad)"
      ],
      "metadata": {
        "id": "VJ4lxvttMfXs"
      },
      "execution_count": null,
      "outputs": []
    },
    {
      "cell_type": "code",
      "source": [
        "class SentimentDataset(Dataset):\n",
        "    def __init__(self, data):\n",
        "        self.texts = data['text'].values\n",
        "        self.labels = data['label'].values\n",
        "\n",
        "    def __len__(self):\n",
        "        return len(self.texts)\n",
        "\n",
        "    def __getitem__(self, idx):\n",
        "        text = self.texts[idx]\n",
        "        label = self.labels[idx]\n",
        "        return torch.tensor(text, dtype=torch.long), torch.tensor(label, dtype=torch.long)\n",
        "\n",
        "train_dataset = SentimentDataset(train_data)\n",
        "test_dataset = SentimentDataset(test_data)\n",
        "\n",
        "train_loader = DataLoader(train_dataset, batch_size=32, shuffle=True)\n",
        "test_loader = DataLoader(test_dataset, batch_size=32, shuffle=False)"
      ],
      "metadata": {
        "id": "i_N3TE3XMfdH"
      },
      "execution_count": null,
      "outputs": []
    },
    {
      "cell_type": "code",
      "source": [
        "# Implementing the RNN in Pytorch\n",
        "\n",
        "class SentimentRNN(nn.Module):\n",
        "    def __init__(self, vocab_size, embed_size, hidden_size, output_size):\n",
        "        super(SentimentRNN, self).__init__()\n",
        "        self.embedding = nn.Embedding(vocab_size, embed_size)\n",
        "        self.rnn = nn.RNN(embed_size, hidden_size, batch_first=True)\n",
        "        self.fc = nn.Linear(hidden_size, output_size)\n",
        "\n",
        "    def forward(self, x):\n",
        "        x = self.embedding(x)\n",
        "        h0 = torch.zeros(1, x.size(0), hidden_size).to(x.device)\n",
        "        out, _ = self.rnn(x, h0)\n",
        "        out = self.fc(out[:, -1, :])\n",
        "        return out\n",
        "\n",
        "vocab_size = len(vocab) + 1\n",
        "embed_size = 32\n",
        "hidden_size = 32\n",
        "output_size = 2\n",
        "model = SentimentRNN(vocab_size, embed_size, hidden_size, output_size)"
      ],
      "metadata": {
        "id": "0Qq7BepkNJ6x"
      },
      "execution_count": null,
      "outputs": []
    },
    {
      "cell_type": "code",
      "source": [
        "## Training\n",
        "\n",
        "criterion = nn.CrossEntropyLoss()\n",
        "optimizer = optim.Adam(model.parameters(), lr=0.001)\n",
        "\n",
        "num_epochs = 5\n",
        "for epoch in range(num_epochs):\n",
        "    model.train()\n",
        "    epoch_loss = 0\n",
        "    for texts, labels in train_loader:\n",
        "        outputs = model(texts)\n",
        "        loss = criterion(outputs, labels)\n",
        "\n",
        "        optimizer.zero_grad()\n",
        "        loss.backward()\n",
        "        optimizer.step()\n",
        "\n",
        "        epoch_loss += loss.item()\n",
        "\n",
        "    print(f'Epoch [{epoch+1}/{num_epochs}], Loss: {epoch_loss / len(train_loader):.4f}')"
      ],
      "metadata": {
        "id": "PWwRc_HkNOXv"
      },
      "execution_count": null,
      "outputs": []
    },
    {
      "cell_type": "code",
      "source": [
        "## Validation\n",
        "\n",
        "model.eval()\n",
        "correct = 0\n",
        "total = 0\n",
        "with torch.no_grad():\n",
        "    for texts, labels in test_loader:\n",
        "        outputs = model(texts)\n",
        "        _, predicted = torch.max(outputs.data, 1)\n",
        "        total += labels.size(0)\n",
        "        correct += (predicted == labels).sum().item()\n",
        "\n",
        "accuracy = 100 * correct / total\n",
        "print(f'Accuracy: {accuracy:.2f}%')"
      ],
      "metadata": {
        "id": "Egmc85ipNPPP"
      },
      "execution_count": null,
      "outputs": []
    }
  ]
}